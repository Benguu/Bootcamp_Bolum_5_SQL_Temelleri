{
 "cells": [
  {
   "cell_type": "markdown",
   "metadata": {},
   "source": [
    "Soru_1\n",
    "Veri tabanları ne işe yarar? SQL'i hangi amaçlarla kullanırız?\n",
    "\n",
    "Veri tabanları herhangi bir bilgide birbiri ile ilişkili düzenli bilgiler topluluğudur. Veriyi oluşturmak ve gerektiğinde güncellemek amacıyla, operasyonel işlemler bilgiyi saklamak için veri tabanını kullanır.Veri tabanları bir çok makinede dağınık bir şekilde konumlandırılabilir ve tek bir makinenin kapasitesinden çok daha fazlasına sahip olabilir. Ayrıca, bir çok kullanıcı uzak bir veri tabanına aynı anda ve aynı doğrulukla erişir. Veri tabanları bir çok kaynaktan veri alabilir ve bütün veriyi tek bir sistemde muhafaza edebilir. Veri tabanları veriyi biçimlendirme ve yönetme açısından çok güçlü araçlardır.  SQL'i veri tabanlarına erişmek ve işlem yapmak için kullanırız."
   ]
  },
  {
   "cell_type": "markdown",
   "metadata": {},
   "source": [
    "Soru_2\n",
    "Derste değişik tablo türlerinden bahsettik (raw tables/processed tables/roll-up tables). Bir veri bilimci olarak, hangi tablonun hangi tür veriler ya da uygulamalar için uygun olduğunu kestirebiliyor musunuz? Herbir tür için, uygun olduğunu düşündüğünüz bir veri yapısı belirleyin ve önerilerinizi mentörünüzle tartışın.\n",
    "\n",
    "Raw tables: işlem görmemiş yani temizlenmemiş aykırı değerleri kaldırılmamış, düzeltilmemiş veridir bence. Processed tables ise veriyi kullanmak için temizleme işlemi yaptığımız ve aykırı değerleri kaldırdığımız şeklidir.Roll-up tables büyük veri setlerinde verileri kategorize ederek toplama ile boyutu küçültülmüş veri seti oluşturulması."
   ]
  }
 ],
 "metadata": {
  "kernelspec": {
   "display_name": "Python 3",
   "language": "python",
   "name": "python3"
  },
  "language_info": {
   "codemirror_mode": {
    "name": "ipython",
    "version": 3
   },
   "file_extension": ".py",
   "mimetype": "text/x-python",
   "name": "python",
   "nbconvert_exporter": "python",
   "pygments_lexer": "ipython3",
   "version": "3.7.1"
  }
 },
 "nbformat": 4,
 "nbformat_minor": 2
}
